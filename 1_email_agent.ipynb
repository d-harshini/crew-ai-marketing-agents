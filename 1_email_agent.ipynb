{
 "cells": [
  {
   "cell_type": "code",
   "id": "initial_id",
   "metadata": {
    "collapsed": true,
    "ExecuteTime": {
     "end_time": "2025-08-05T22:16:14.836507Z",
     "start_time": "2025-08-05T22:16:14.805356Z"
    }
   },
   "source": [
    "from dotenv import load_dotenv\n",
    "load_dotenv()"
   ],
   "outputs": [
    {
     "data": {
      "text/plain": [
       "True"
      ]
     },
     "execution_count": 1,
     "metadata": {},
     "output_type": "execute_result"
    }
   ],
   "execution_count": 1
  },
  {
   "metadata": {
    "ExecuteTime": {
     "end_time": "2025-08-05T22:22:12.677781Z",
     "start_time": "2025-08-05T22:21:58.699644Z"
    }
   },
   "cell_type": "code",
   "source": [
    "from crewai import LLM\n",
    "\n",
    "llm = LLM(\n",
    "    model = \"gemini/gemini-2.0-flash\",\n",
    "    temperature = 0.1\n",
    ")\n",
    "llm.call(\"Who invented transcendental meditation\")"
   ],
   "id": "6a4bf9f35d3fa326",
   "outputs": [
    {
     "data": {
      "text/plain": [
       "'Transcendental Meditation (TM) was popularized by **Maharishi Mahesh Yogi**.\\n'"
      ]
     },
     "execution_count": 2,
     "metadata": {},
     "output_type": "execute_result"
    }
   ],
   "execution_count": 2
  },
  {
   "metadata": {
    "ExecuteTime": {
     "end_time": "2025-08-05T22:36:57.347496Z",
     "start_time": "2025-08-05T22:36:55.456640Z"
    }
   },
   "cell_type": "code",
   "source": [
    "from crewai import Agent, Task, Crew\n",
    "\n",
    "email_assistant = Agent(\n",
    "    role = \"Email Assistant Agent\",\n",
    "    goal = \"Improve emails and make them sound professional and clear\",\n",
    "    backstory = \"A highly experienced communication expert skilled in professional email writing\",\n",
    "    verbose = True,\n",
    "    llm = llm\n",
    ")\n",
    "\n",
    "original_email = \"\"\"\n",
    "hey team, just wanted to tell u that the demo is kind of ready, but there's still stuff left. Maybe we can show what we have and say rest is WIP. Let me know what u think. thanks\n",
    "\"\"\"\n",
    "\n",
    "email_task = Task(\n",
    "    description = f\"\"\"Take the following rough email and rewrite it into a professional and polished version.\n",
    "    Expand abbreviations:\n",
    "    '''{original_email}'''\"\"\",\n",
    "    agent = email_assistant,\n",
    "    expected_output = \"A professional written email with proper formatting and content \"\n",
    ")\n",
    "\n",
    "crew = Crew(\n",
    "    agents = [email_assistant],\n",
    "    tasks = [email_task],\n",
    "    verbose = True\n",
    ")\n",
    "\n",
    "result = crew.kickoff()\n",
    "print(result)"
   ],
   "id": "ebadd260f59e365",
   "outputs": [
    {
     "data": {
      "text/plain": [
       "\u001B[36m╭─\u001B[0m\u001B[36m───────────────────────────────────────────\u001B[0m\u001B[36m Crew Execution Started \u001B[0m\u001B[36m────────────────────────────────────────────\u001B[0m\u001B[36m─╮\u001B[0m\n",
       "\u001B[36m│\u001B[0m                                                                                                                 \u001B[36m│\u001B[0m\n",
       "\u001B[36m│\u001B[0m  \u001B[1;36mCrew Execution Started\u001B[0m                                                                                         \u001B[36m│\u001B[0m\n",
       "\u001B[36m│\u001B[0m  \u001B[37mName: \u001B[0m\u001B[36mcrew\u001B[0m                                                                                                     \u001B[36m│\u001B[0m\n",
       "\u001B[36m│\u001B[0m  \u001B[37mID: \u001B[0m\u001B[36mf2c816d6-175e-464c-a624-fceabfe3a6b9\u001B[0m                                                                       \u001B[36m│\u001B[0m\n",
       "\u001B[36m│\u001B[0m  \u001B[37mTool Args: \u001B[0m                                                                                                    \u001B[36m│\u001B[0m\n",
       "\u001B[36m│\u001B[0m                                                                                                                 \u001B[36m│\u001B[0m\n",
       "\u001B[36m│\u001B[0m                                                                                                                 \u001B[36m│\u001B[0m\n",
       "\u001B[36m╰─────────────────────────────────────────────────────────────────────────────────────────────────────────────────╯\u001B[0m\n"
      ],
      "text/html": [
       "<pre style=\"white-space:pre;overflow-x:auto;line-height:normal;font-family:Menlo,'DejaVu Sans Mono',consolas,'Courier New',monospace\"><span style=\"color: #008080; text-decoration-color: #008080\">╭──────────────────────────────────────────── Crew Execution Started ─────────────────────────────────────────────╮</span>\n",
       "<span style=\"color: #008080; text-decoration-color: #008080\">│</span>                                                                                                                 <span style=\"color: #008080; text-decoration-color: #008080\">│</span>\n",
       "<span style=\"color: #008080; text-decoration-color: #008080\">│</span>  <span style=\"color: #008080; text-decoration-color: #008080; font-weight: bold\">Crew Execution Started</span>                                                                                         <span style=\"color: #008080; text-decoration-color: #008080\">│</span>\n",
       "<span style=\"color: #008080; text-decoration-color: #008080\">│</span>  <span style=\"color: #c0c0c0; text-decoration-color: #c0c0c0\">Name: </span><span style=\"color: #008080; text-decoration-color: #008080\">crew</span>                                                                                                     <span style=\"color: #008080; text-decoration-color: #008080\">│</span>\n",
       "<span style=\"color: #008080; text-decoration-color: #008080\">│</span>  <span style=\"color: #c0c0c0; text-decoration-color: #c0c0c0\">ID: </span><span style=\"color: #008080; text-decoration-color: #008080\">f2c816d6-175e-464c-a624-fceabfe3a6b9</span>                                                                       <span style=\"color: #008080; text-decoration-color: #008080\">│</span>\n",
       "<span style=\"color: #008080; text-decoration-color: #008080\">│</span>  <span style=\"color: #c0c0c0; text-decoration-color: #c0c0c0\">Tool Args: </span>                                                                                                    <span style=\"color: #008080; text-decoration-color: #008080\">│</span>\n",
       "<span style=\"color: #008080; text-decoration-color: #008080\">│</span>                                                                                                                 <span style=\"color: #008080; text-decoration-color: #008080\">│</span>\n",
       "<span style=\"color: #008080; text-decoration-color: #008080\">│</span>                                                                                                                 <span style=\"color: #008080; text-decoration-color: #008080\">│</span>\n",
       "<span style=\"color: #008080; text-decoration-color: #008080\">╰─────────────────────────────────────────────────────────────────────────────────────────────────────────────────╯</span>\n",
       "</pre>\n"
      ]
     },
     "metadata": {},
     "output_type": "display_data"
    },
    {
     "data": {
      "text/plain": [
       "\n"
      ],
      "text/html": [
       "<pre style=\"white-space:pre;overflow-x:auto;line-height:normal;font-family:Menlo,'DejaVu Sans Mono',consolas,'Courier New',monospace\">\n",
       "</pre>\n"
      ]
     },
     "metadata": {},
     "output_type": "display_data"
    },
    {
     "data": {
      "text/plain": [],
      "text/html": [
       "<pre style=\"white-space:pre;overflow-x:auto;line-height:normal;font-family:Menlo,'DejaVu Sans Mono',consolas,'Courier New',monospace\"></pre>\n"
      ]
     },
     "metadata": {},
     "output_type": "display_data"
    },
    {
     "data": {
      "text/plain": [
       "\u001B[35m╭─\u001B[0m\u001B[35m──────────────────────────────────────────────\u001B[0m\u001B[35m 🤖 Agent Started \u001B[0m\u001B[35m───────────────────────────────────────────────\u001B[0m\u001B[35m─╮\u001B[0m\n",
       "\u001B[35m│\u001B[0m                                                                                                                 \u001B[35m│\u001B[0m\n",
       "\u001B[35m│\u001B[0m  \u001B[37mAgent: \u001B[0m\u001B[1;92mEmail Assistant Agent\u001B[0m                                                                                   \u001B[35m│\u001B[0m\n",
       "\u001B[35m│\u001B[0m                                                                                                                 \u001B[35m│\u001B[0m\n",
       "\u001B[35m│\u001B[0m  \u001B[37mTask: \u001B[0m\u001B[92mTake the following rough email and rewrite it into a professional and polished version.\u001B[0m                  \u001B[35m│\u001B[0m\n",
       "\u001B[35m│\u001B[0m  \u001B[92m    Expand abbreviations:\u001B[0m                                                                                      \u001B[35m│\u001B[0m\n",
       "\u001B[35m│\u001B[0m  \u001B[92m    '''\u001B[0m                                                                                                        \u001B[35m│\u001B[0m\n",
       "\u001B[35m│\u001B[0m  \u001B[92mhey team, just wanted to tell u that the demo is kind of ready, but there's still stuff left. Maybe we can \u001B[0m    \u001B[35m│\u001B[0m\n",
       "\u001B[35m│\u001B[0m  \u001B[92mshow what we have and say rest is WIP. Let me know what u think. thanks\u001B[0m                                        \u001B[35m│\u001B[0m\n",
       "\u001B[35m│\u001B[0m  \u001B[92m'''\u001B[0m                                                                                                            \u001B[35m│\u001B[0m\n",
       "\u001B[35m│\u001B[0m                                                                                                                 \u001B[35m│\u001B[0m\n",
       "\u001B[35m╰─────────────────────────────────────────────────────────────────────────────────────────────────────────────────╯\u001B[0m\n"
      ],
      "text/html": [
       "<pre style=\"white-space:pre;overflow-x:auto;line-height:normal;font-family:Menlo,'DejaVu Sans Mono',consolas,'Courier New',monospace\"><span style=\"color: #800080; text-decoration-color: #800080\">╭─────────────────────────────────────────────── 🤖 Agent Started ────────────────────────────────────────────────╮</span>\n",
       "<span style=\"color: #800080; text-decoration-color: #800080\">│</span>                                                                                                                 <span style=\"color: #800080; text-decoration-color: #800080\">│</span>\n",
       "<span style=\"color: #800080; text-decoration-color: #800080\">│</span>  <span style=\"color: #c0c0c0; text-decoration-color: #c0c0c0\">Agent: </span><span style=\"color: #00ff00; text-decoration-color: #00ff00; font-weight: bold\">Email Assistant Agent</span>                                                                                   <span style=\"color: #800080; text-decoration-color: #800080\">│</span>\n",
       "<span style=\"color: #800080; text-decoration-color: #800080\">│</span>                                                                                                                 <span style=\"color: #800080; text-decoration-color: #800080\">│</span>\n",
       "<span style=\"color: #800080; text-decoration-color: #800080\">│</span>  <span style=\"color: #c0c0c0; text-decoration-color: #c0c0c0\">Task: </span><span style=\"color: #00ff00; text-decoration-color: #00ff00\">Take the following rough email and rewrite it into a professional and polished version.</span>                  <span style=\"color: #800080; text-decoration-color: #800080\">│</span>\n",
       "<span style=\"color: #800080; text-decoration-color: #800080\">│</span>  <span style=\"color: #00ff00; text-decoration-color: #00ff00\">    Expand abbreviations:</span>                                                                                      <span style=\"color: #800080; text-decoration-color: #800080\">│</span>\n",
       "<span style=\"color: #800080; text-decoration-color: #800080\">│</span>  <span style=\"color: #00ff00; text-decoration-color: #00ff00\">    '''</span>                                                                                                        <span style=\"color: #800080; text-decoration-color: #800080\">│</span>\n",
       "<span style=\"color: #800080; text-decoration-color: #800080\">│</span>  <span style=\"color: #00ff00; text-decoration-color: #00ff00\">hey team, just wanted to tell u that the demo is kind of ready, but there's still stuff left. Maybe we can </span>    <span style=\"color: #800080; text-decoration-color: #800080\">│</span>\n",
       "<span style=\"color: #800080; text-decoration-color: #800080\">│</span>  <span style=\"color: #00ff00; text-decoration-color: #00ff00\">show what we have and say rest is WIP. Let me know what u think. thanks</span>                                        <span style=\"color: #800080; text-decoration-color: #800080\">│</span>\n",
       "<span style=\"color: #800080; text-decoration-color: #800080\">│</span>  <span style=\"color: #00ff00; text-decoration-color: #00ff00\">'''</span>                                                                                                            <span style=\"color: #800080; text-decoration-color: #800080\">│</span>\n",
       "<span style=\"color: #800080; text-decoration-color: #800080\">│</span>                                                                                                                 <span style=\"color: #800080; text-decoration-color: #800080\">│</span>\n",
       "<span style=\"color: #800080; text-decoration-color: #800080\">╰─────────────────────────────────────────────────────────────────────────────────────────────────────────────────╯</span>\n",
       "</pre>\n"
      ]
     },
     "metadata": {},
     "output_type": "display_data"
    },
    {
     "data": {
      "text/plain": [
       "\n"
      ],
      "text/html": [
       "<pre style=\"white-space:pre;overflow-x:auto;line-height:normal;font-family:Menlo,'DejaVu Sans Mono',consolas,'Courier New',monospace\">\n",
       "</pre>\n"
      ]
     },
     "metadata": {},
     "output_type": "display_data"
    },
    {
     "data": {
      "text/plain": [],
      "text/html": [
       "<pre style=\"white-space:pre;overflow-x:auto;line-height:normal;font-family:Menlo,'DejaVu Sans Mono',consolas,'Courier New',monospace\"></pre>\n"
      ]
     },
     "metadata": {},
     "output_type": "display_data"
    },
    {
     "data": {
      "text/plain": [
       "\u001B[32m╭─\u001B[0m\u001B[32m────────────────────────────────────────────\u001B[0m\u001B[32m ✅ Agent Final Answer \u001B[0m\u001B[32m────────────────────────────────────────────\u001B[0m\u001B[32m─╮\u001B[0m\n",
       "\u001B[32m│\u001B[0m                                                                                                                 \u001B[32m│\u001B[0m\n",
       "\u001B[32m│\u001B[0m  \u001B[37mAgent: \u001B[0m\u001B[1;92mEmail Assistant Agent\u001B[0m                                                                                   \u001B[32m│\u001B[0m\n",
       "\u001B[32m│\u001B[0m                                                                                                                 \u001B[32m│\u001B[0m\n",
       "\u001B[32m│\u001B[0m  \u001B[37mFinal Answer:\u001B[0m                                                                                                  \u001B[32m│\u001B[0m\n",
       "\u001B[32m│\u001B[0m  \u001B[92m```\u001B[0m                                                                                                            \u001B[32m│\u001B[0m\n",
       "\u001B[32m│\u001B[0m  \u001B[92mSubject: Demo Readiness and Next Steps\u001B[0m                                                                         \u001B[32m│\u001B[0m\n",
       "\u001B[32m│\u001B[0m                                                                                                                 \u001B[32m│\u001B[0m\n",
       "\u001B[32m│\u001B[0m  \u001B[92mDear Team,\u001B[0m                                                                                                     \u001B[32m│\u001B[0m\n",
       "\u001B[32m│\u001B[0m                                                                                                                 \u001B[32m│\u001B[0m\n",
       "\u001B[32m│\u001B[0m  \u001B[92mI wanted to provide an update on the demo. It is nearing completion, although some elements are still in \u001B[0m      \u001B[32m│\u001B[0m\n",
       "\u001B[32m│\u001B[0m  \u001B[92mprogress.\u001B[0m                                                                                                      \u001B[32m│\u001B[0m\n",
       "\u001B[32m│\u001B[0m                                                                                                                 \u001B[32m│\u001B[0m\n",
       "\u001B[32m│\u001B[0m  \u001B[92mI propose that we present the current version of the demo, clearly indicating that certain features are still\u001B[0m  \u001B[32m│\u001B[0m\n",
       "\u001B[32m│\u001B[0m  \u001B[92mwork-in-progress (WIP). This will allow us to gather feedback and demonstrate the progress we've made.\u001B[0m         \u001B[32m│\u001B[0m\n",
       "\u001B[32m│\u001B[0m                                                                                                                 \u001B[32m│\u001B[0m\n",
       "\u001B[32m│\u001B[0m  \u001B[92mPlease let me know your thoughts on this approach.\u001B[0m                                                             \u001B[32m│\u001B[0m\n",
       "\u001B[32m│\u001B[0m                                                                                                                 \u001B[32m│\u001B[0m\n",
       "\u001B[32m│\u001B[0m  \u001B[92mThank you,\u001B[0m                                                                                                     \u001B[32m│\u001B[0m\n",
       "\u001B[32m│\u001B[0m                                                                                                                 \u001B[32m│\u001B[0m\n",
       "\u001B[32m│\u001B[0m  \u001B[92m[Your Name]\u001B[0m                                                                                                    \u001B[32m│\u001B[0m\n",
       "\u001B[32m│\u001B[0m  \u001B[92m```\u001B[0m                                                                                                            \u001B[32m│\u001B[0m\n",
       "\u001B[32m│\u001B[0m                                                                                                                 \u001B[32m│\u001B[0m\n",
       "\u001B[32m╰─────────────────────────────────────────────────────────────────────────────────────────────────────────────────╯\u001B[0m\n"
      ],
      "text/html": [
       "<pre style=\"white-space:pre;overflow-x:auto;line-height:normal;font-family:Menlo,'DejaVu Sans Mono',consolas,'Courier New',monospace\"><span style=\"color: #008000; text-decoration-color: #008000\">╭───────────────────────────────────────────── ✅ Agent Final Answer ─────────────────────────────────────────────╮</span>\n",
       "<span style=\"color: #008000; text-decoration-color: #008000\">│</span>                                                                                                                 <span style=\"color: #008000; text-decoration-color: #008000\">│</span>\n",
       "<span style=\"color: #008000; text-decoration-color: #008000\">│</span>  <span style=\"color: #c0c0c0; text-decoration-color: #c0c0c0\">Agent: </span><span style=\"color: #00ff00; text-decoration-color: #00ff00; font-weight: bold\">Email Assistant Agent</span>                                                                                   <span style=\"color: #008000; text-decoration-color: #008000\">│</span>\n",
       "<span style=\"color: #008000; text-decoration-color: #008000\">│</span>                                                                                                                 <span style=\"color: #008000; text-decoration-color: #008000\">│</span>\n",
       "<span style=\"color: #008000; text-decoration-color: #008000\">│</span>  <span style=\"color: #c0c0c0; text-decoration-color: #c0c0c0\">Final Answer:</span>                                                                                                  <span style=\"color: #008000; text-decoration-color: #008000\">│</span>\n",
       "<span style=\"color: #008000; text-decoration-color: #008000\">│</span>  <span style=\"color: #00ff00; text-decoration-color: #00ff00\">```</span>                                                                                                            <span style=\"color: #008000; text-decoration-color: #008000\">│</span>\n",
       "<span style=\"color: #008000; text-decoration-color: #008000\">│</span>  <span style=\"color: #00ff00; text-decoration-color: #00ff00\">Subject: Demo Readiness and Next Steps</span>                                                                         <span style=\"color: #008000; text-decoration-color: #008000\">│</span>\n",
       "<span style=\"color: #008000; text-decoration-color: #008000\">│</span>                                                                                                                 <span style=\"color: #008000; text-decoration-color: #008000\">│</span>\n",
       "<span style=\"color: #008000; text-decoration-color: #008000\">│</span>  <span style=\"color: #00ff00; text-decoration-color: #00ff00\">Dear Team,</span>                                                                                                     <span style=\"color: #008000; text-decoration-color: #008000\">│</span>\n",
       "<span style=\"color: #008000; text-decoration-color: #008000\">│</span>                                                                                                                 <span style=\"color: #008000; text-decoration-color: #008000\">│</span>\n",
       "<span style=\"color: #008000; text-decoration-color: #008000\">│</span>  <span style=\"color: #00ff00; text-decoration-color: #00ff00\">I wanted to provide an update on the demo. It is nearing completion, although some elements are still in </span>      <span style=\"color: #008000; text-decoration-color: #008000\">│</span>\n",
       "<span style=\"color: #008000; text-decoration-color: #008000\">│</span>  <span style=\"color: #00ff00; text-decoration-color: #00ff00\">progress.</span>                                                                                                      <span style=\"color: #008000; text-decoration-color: #008000\">│</span>\n",
       "<span style=\"color: #008000; text-decoration-color: #008000\">│</span>                                                                                                                 <span style=\"color: #008000; text-decoration-color: #008000\">│</span>\n",
       "<span style=\"color: #008000; text-decoration-color: #008000\">│</span>  <span style=\"color: #00ff00; text-decoration-color: #00ff00\">I propose that we present the current version of the demo, clearly indicating that certain features are still</span>  <span style=\"color: #008000; text-decoration-color: #008000\">│</span>\n",
       "<span style=\"color: #008000; text-decoration-color: #008000\">│</span>  <span style=\"color: #00ff00; text-decoration-color: #00ff00\">work-in-progress (WIP). This will allow us to gather feedback and demonstrate the progress we've made.</span>         <span style=\"color: #008000; text-decoration-color: #008000\">│</span>\n",
       "<span style=\"color: #008000; text-decoration-color: #008000\">│</span>                                                                                                                 <span style=\"color: #008000; text-decoration-color: #008000\">│</span>\n",
       "<span style=\"color: #008000; text-decoration-color: #008000\">│</span>  <span style=\"color: #00ff00; text-decoration-color: #00ff00\">Please let me know your thoughts on this approach.</span>                                                             <span style=\"color: #008000; text-decoration-color: #008000\">│</span>\n",
       "<span style=\"color: #008000; text-decoration-color: #008000\">│</span>                                                                                                                 <span style=\"color: #008000; text-decoration-color: #008000\">│</span>\n",
       "<span style=\"color: #008000; text-decoration-color: #008000\">│</span>  <span style=\"color: #00ff00; text-decoration-color: #00ff00\">Thank you,</span>                                                                                                     <span style=\"color: #008000; text-decoration-color: #008000\">│</span>\n",
       "<span style=\"color: #008000; text-decoration-color: #008000\">│</span>                                                                                                                 <span style=\"color: #008000; text-decoration-color: #008000\">│</span>\n",
       "<span style=\"color: #008000; text-decoration-color: #008000\">│</span>  <span style=\"color: #00ff00; text-decoration-color: #00ff00\">[Your Name]</span>                                                                                                    <span style=\"color: #008000; text-decoration-color: #008000\">│</span>\n",
       "<span style=\"color: #008000; text-decoration-color: #008000\">│</span>  <span style=\"color: #00ff00; text-decoration-color: #00ff00\">```</span>                                                                                                            <span style=\"color: #008000; text-decoration-color: #008000\">│</span>\n",
       "<span style=\"color: #008000; text-decoration-color: #008000\">│</span>                                                                                                                 <span style=\"color: #008000; text-decoration-color: #008000\">│</span>\n",
       "<span style=\"color: #008000; text-decoration-color: #008000\">╰─────────────────────────────────────────────────────────────────────────────────────────────────────────────────╯</span>\n",
       "</pre>\n"
      ]
     },
     "metadata": {},
     "output_type": "display_data"
    },
    {
     "data": {
      "text/plain": [
       "\n"
      ],
      "text/html": [
       "<pre style=\"white-space:pre;overflow-x:auto;line-height:normal;font-family:Menlo,'DejaVu Sans Mono',consolas,'Courier New',monospace\">\n",
       "</pre>\n"
      ]
     },
     "metadata": {},
     "output_type": "display_data"
    },
    {
     "data": {
      "text/plain": [],
      "text/html": [
       "<pre style=\"white-space:pre;overflow-x:auto;line-height:normal;font-family:Menlo,'DejaVu Sans Mono',consolas,'Courier New',monospace\"></pre>\n"
      ]
     },
     "metadata": {},
     "output_type": "display_data"
    },
    {
     "data": {
      "text/plain": [
       "\u001B[32m╭─\u001B[0m\u001B[32m───────────────────────────────────────────────\u001B[0m\u001B[32m Task Completion \u001B[0m\u001B[32m───────────────────────────────────────────────\u001B[0m\u001B[32m─╮\u001B[0m\n",
       "\u001B[32m│\u001B[0m                                                                                                                 \u001B[32m│\u001B[0m\n",
       "\u001B[32m│\u001B[0m  \u001B[1;32mTask Completed\u001B[0m                                                                                                 \u001B[32m│\u001B[0m\n",
       "\u001B[32m│\u001B[0m  \u001B[37mName: \u001B[0m\u001B[32md19f6454-7513-41a6-be6b-ba7ad9720566\u001B[0m                                                                     \u001B[32m│\u001B[0m\n",
       "\u001B[32m│\u001B[0m  \u001B[37mAgent: \u001B[0m\u001B[32mEmail Assistant Agent\u001B[0m                                                                                   \u001B[32m│\u001B[0m\n",
       "\u001B[32m│\u001B[0m  \u001B[37mTool Args: \u001B[0m                                                                                                    \u001B[32m│\u001B[0m\n",
       "\u001B[32m│\u001B[0m                                                                                                                 \u001B[32m│\u001B[0m\n",
       "\u001B[32m│\u001B[0m                                                                                                                 \u001B[32m│\u001B[0m\n",
       "\u001B[32m╰─────────────────────────────────────────────────────────────────────────────────────────────────────────────────╯\u001B[0m\n"
      ],
      "text/html": [
       "<pre style=\"white-space:pre;overflow-x:auto;line-height:normal;font-family:Menlo,'DejaVu Sans Mono',consolas,'Courier New',monospace\"><span style=\"color: #008000; text-decoration-color: #008000\">╭──────────────────────────────────────────────── Task Completion ────────────────────────────────────────────────╮</span>\n",
       "<span style=\"color: #008000; text-decoration-color: #008000\">│</span>                                                                                                                 <span style=\"color: #008000; text-decoration-color: #008000\">│</span>\n",
       "<span style=\"color: #008000; text-decoration-color: #008000\">│</span>  <span style=\"color: #008000; text-decoration-color: #008000; font-weight: bold\">Task Completed</span>                                                                                                 <span style=\"color: #008000; text-decoration-color: #008000\">│</span>\n",
       "<span style=\"color: #008000; text-decoration-color: #008000\">│</span>  <span style=\"color: #c0c0c0; text-decoration-color: #c0c0c0\">Name: </span><span style=\"color: #008000; text-decoration-color: #008000\">d19f6454-7513-41a6-be6b-ba7ad9720566</span>                                                                     <span style=\"color: #008000; text-decoration-color: #008000\">│</span>\n",
       "<span style=\"color: #008000; text-decoration-color: #008000\">│</span>  <span style=\"color: #c0c0c0; text-decoration-color: #c0c0c0\">Agent: </span><span style=\"color: #008000; text-decoration-color: #008000\">Email Assistant Agent</span>                                                                                   <span style=\"color: #008000; text-decoration-color: #008000\">│</span>\n",
       "<span style=\"color: #008000; text-decoration-color: #008000\">│</span>  <span style=\"color: #c0c0c0; text-decoration-color: #c0c0c0\">Tool Args: </span>                                                                                                    <span style=\"color: #008000; text-decoration-color: #008000\">│</span>\n",
       "<span style=\"color: #008000; text-decoration-color: #008000\">│</span>                                                                                                                 <span style=\"color: #008000; text-decoration-color: #008000\">│</span>\n",
       "<span style=\"color: #008000; text-decoration-color: #008000\">│</span>                                                                                                                 <span style=\"color: #008000; text-decoration-color: #008000\">│</span>\n",
       "<span style=\"color: #008000; text-decoration-color: #008000\">╰─────────────────────────────────────────────────────────────────────────────────────────────────────────────────╯</span>\n",
       "</pre>\n"
      ]
     },
     "metadata": {},
     "output_type": "display_data"
    },
    {
     "data": {
      "text/plain": [
       "\n"
      ],
      "text/html": [
       "<pre style=\"white-space:pre;overflow-x:auto;line-height:normal;font-family:Menlo,'DejaVu Sans Mono',consolas,'Courier New',monospace\">\n",
       "</pre>\n"
      ]
     },
     "metadata": {},
     "output_type": "display_data"
    },
    {
     "data": {
      "text/plain": [
       "\u001B[32m╭─\u001B[0m\u001B[32m───────────────────────────────────────────────\u001B[0m\u001B[32m Crew Completion \u001B[0m\u001B[32m───────────────────────────────────────────────\u001B[0m\u001B[32m─╮\u001B[0m\n",
       "\u001B[32m│\u001B[0m                                                                                                                 \u001B[32m│\u001B[0m\n",
       "\u001B[32m│\u001B[0m  \u001B[1;32mCrew Execution Completed\u001B[0m                                                                                       \u001B[32m│\u001B[0m\n",
       "\u001B[32m│\u001B[0m  \u001B[37mName: \u001B[0m\u001B[32mcrew\u001B[0m                                                                                                     \u001B[32m│\u001B[0m\n",
       "\u001B[32m│\u001B[0m  \u001B[37mID: \u001B[0m\u001B[32mf2c816d6-175e-464c-a624-fceabfe3a6b9\u001B[0m                                                                       \u001B[32m│\u001B[0m\n",
       "\u001B[32m│\u001B[0m  \u001B[37mTool Args: \u001B[0m                                                                                                    \u001B[32m│\u001B[0m\n",
       "\u001B[32m│\u001B[0m  \u001B[37mFinal Output: ```\u001B[0m                                                                                              \u001B[32m│\u001B[0m\n",
       "\u001B[32m│\u001B[0m  \u001B[37mSubject: Demo Readiness and Next Steps\u001B[0m                                                                         \u001B[32m│\u001B[0m\n",
       "\u001B[32m│\u001B[0m                                                                                                                 \u001B[32m│\u001B[0m\n",
       "\u001B[32m│\u001B[0m  \u001B[37mDear Team,\u001B[0m                                                                                                     \u001B[32m│\u001B[0m\n",
       "\u001B[32m│\u001B[0m                                                                                                                 \u001B[32m│\u001B[0m\n",
       "\u001B[32m│\u001B[0m  \u001B[37mI wanted to provide an update on the demo. It is nearing completion, although some elements are still in \u001B[0m      \u001B[32m│\u001B[0m\n",
       "\u001B[32m│\u001B[0m  \u001B[37mprogress.\u001B[0m                                                                                                      \u001B[32m│\u001B[0m\n",
       "\u001B[32m│\u001B[0m                                                                                                                 \u001B[32m│\u001B[0m\n",
       "\u001B[32m│\u001B[0m  \u001B[37mI propose that we present the current version of the demo, clearly indicating that certain features are still\u001B[0m  \u001B[32m│\u001B[0m\n",
       "\u001B[32m│\u001B[0m  \u001B[37mwork-in-progress (WIP). This will allow us to gather feedback and demonstrate the progress we've made.\u001B[0m         \u001B[32m│\u001B[0m\n",
       "\u001B[32m│\u001B[0m                                                                                                                 \u001B[32m│\u001B[0m\n",
       "\u001B[32m│\u001B[0m  \u001B[37mPlease let me know your thoughts on this approach.\u001B[0m                                                             \u001B[32m│\u001B[0m\n",
       "\u001B[32m│\u001B[0m                                                                                                                 \u001B[32m│\u001B[0m\n",
       "\u001B[32m│\u001B[0m  \u001B[37mThank you,\u001B[0m                                                                                                     \u001B[32m│\u001B[0m\n",
       "\u001B[32m│\u001B[0m                                                                                                                 \u001B[32m│\u001B[0m\n",
       "\u001B[32m│\u001B[0m  \u001B[37m[Your Name]\u001B[0m                                                                                                    \u001B[32m│\u001B[0m\n",
       "\u001B[32m│\u001B[0m  \u001B[37m```\u001B[0m                                                                                                            \u001B[32m│\u001B[0m\n",
       "\u001B[32m│\u001B[0m                                                                                                                 \u001B[32m│\u001B[0m\n",
       "\u001B[32m│\u001B[0m                                                                                                                 \u001B[32m│\u001B[0m\n",
       "\u001B[32m╰─────────────────────────────────────────────────────────────────────────────────────────────────────────────────╯\u001B[0m\n"
      ],
      "text/html": [
       "<pre style=\"white-space:pre;overflow-x:auto;line-height:normal;font-family:Menlo,'DejaVu Sans Mono',consolas,'Courier New',monospace\"><span style=\"color: #008000; text-decoration-color: #008000\">╭──────────────────────────────────────────────── Crew Completion ────────────────────────────────────────────────╮</span>\n",
       "<span style=\"color: #008000; text-decoration-color: #008000\">│</span>                                                                                                                 <span style=\"color: #008000; text-decoration-color: #008000\">│</span>\n",
       "<span style=\"color: #008000; text-decoration-color: #008000\">│</span>  <span style=\"color: #008000; text-decoration-color: #008000; font-weight: bold\">Crew Execution Completed</span>                                                                                       <span style=\"color: #008000; text-decoration-color: #008000\">│</span>\n",
       "<span style=\"color: #008000; text-decoration-color: #008000\">│</span>  <span style=\"color: #c0c0c0; text-decoration-color: #c0c0c0\">Name: </span><span style=\"color: #008000; text-decoration-color: #008000\">crew</span>                                                                                                     <span style=\"color: #008000; text-decoration-color: #008000\">│</span>\n",
       "<span style=\"color: #008000; text-decoration-color: #008000\">│</span>  <span style=\"color: #c0c0c0; text-decoration-color: #c0c0c0\">ID: </span><span style=\"color: #008000; text-decoration-color: #008000\">f2c816d6-175e-464c-a624-fceabfe3a6b9</span>                                                                       <span style=\"color: #008000; text-decoration-color: #008000\">│</span>\n",
       "<span style=\"color: #008000; text-decoration-color: #008000\">│</span>  <span style=\"color: #c0c0c0; text-decoration-color: #c0c0c0\">Tool Args: </span>                                                                                                    <span style=\"color: #008000; text-decoration-color: #008000\">│</span>\n",
       "<span style=\"color: #008000; text-decoration-color: #008000\">│</span>  <span style=\"color: #c0c0c0; text-decoration-color: #c0c0c0\">Final Output: ```</span>                                                                                              <span style=\"color: #008000; text-decoration-color: #008000\">│</span>\n",
       "<span style=\"color: #008000; text-decoration-color: #008000\">│</span>  <span style=\"color: #c0c0c0; text-decoration-color: #c0c0c0\">Subject: Demo Readiness and Next Steps</span>                                                                         <span style=\"color: #008000; text-decoration-color: #008000\">│</span>\n",
       "<span style=\"color: #008000; text-decoration-color: #008000\">│</span>                                                                                                                 <span style=\"color: #008000; text-decoration-color: #008000\">│</span>\n",
       "<span style=\"color: #008000; text-decoration-color: #008000\">│</span>  <span style=\"color: #c0c0c0; text-decoration-color: #c0c0c0\">Dear Team,</span>                                                                                                     <span style=\"color: #008000; text-decoration-color: #008000\">│</span>\n",
       "<span style=\"color: #008000; text-decoration-color: #008000\">│</span>                                                                                                                 <span style=\"color: #008000; text-decoration-color: #008000\">│</span>\n",
       "<span style=\"color: #008000; text-decoration-color: #008000\">│</span>  <span style=\"color: #c0c0c0; text-decoration-color: #c0c0c0\">I wanted to provide an update on the demo. It is nearing completion, although some elements are still in </span>      <span style=\"color: #008000; text-decoration-color: #008000\">│</span>\n",
       "<span style=\"color: #008000; text-decoration-color: #008000\">│</span>  <span style=\"color: #c0c0c0; text-decoration-color: #c0c0c0\">progress.</span>                                                                                                      <span style=\"color: #008000; text-decoration-color: #008000\">│</span>\n",
       "<span style=\"color: #008000; text-decoration-color: #008000\">│</span>                                                                                                                 <span style=\"color: #008000; text-decoration-color: #008000\">│</span>\n",
       "<span style=\"color: #008000; text-decoration-color: #008000\">│</span>  <span style=\"color: #c0c0c0; text-decoration-color: #c0c0c0\">I propose that we present the current version of the demo, clearly indicating that certain features are still</span>  <span style=\"color: #008000; text-decoration-color: #008000\">│</span>\n",
       "<span style=\"color: #008000; text-decoration-color: #008000\">│</span>  <span style=\"color: #c0c0c0; text-decoration-color: #c0c0c0\">work-in-progress (WIP). This will allow us to gather feedback and demonstrate the progress we've made.</span>         <span style=\"color: #008000; text-decoration-color: #008000\">│</span>\n",
       "<span style=\"color: #008000; text-decoration-color: #008000\">│</span>                                                                                                                 <span style=\"color: #008000; text-decoration-color: #008000\">│</span>\n",
       "<span style=\"color: #008000; text-decoration-color: #008000\">│</span>  <span style=\"color: #c0c0c0; text-decoration-color: #c0c0c0\">Please let me know your thoughts on this approach.</span>                                                             <span style=\"color: #008000; text-decoration-color: #008000\">│</span>\n",
       "<span style=\"color: #008000; text-decoration-color: #008000\">│</span>                                                                                                                 <span style=\"color: #008000; text-decoration-color: #008000\">│</span>\n",
       "<span style=\"color: #008000; text-decoration-color: #008000\">│</span>  <span style=\"color: #c0c0c0; text-decoration-color: #c0c0c0\">Thank you,</span>                                                                                                     <span style=\"color: #008000; text-decoration-color: #008000\">│</span>\n",
       "<span style=\"color: #008000; text-decoration-color: #008000\">│</span>                                                                                                                 <span style=\"color: #008000; text-decoration-color: #008000\">│</span>\n",
       "<span style=\"color: #008000; text-decoration-color: #008000\">│</span>  <span style=\"color: #c0c0c0; text-decoration-color: #c0c0c0\">[Your Name]</span>                                                                                                    <span style=\"color: #008000; text-decoration-color: #008000\">│</span>\n",
       "<span style=\"color: #008000; text-decoration-color: #008000\">│</span>  <span style=\"color: #c0c0c0; text-decoration-color: #c0c0c0\">```</span>                                                                                                            <span style=\"color: #008000; text-decoration-color: #008000\">│</span>\n",
       "<span style=\"color: #008000; text-decoration-color: #008000\">│</span>                                                                                                                 <span style=\"color: #008000; text-decoration-color: #008000\">│</span>\n",
       "<span style=\"color: #008000; text-decoration-color: #008000\">│</span>                                                                                                                 <span style=\"color: #008000; text-decoration-color: #008000\">│</span>\n",
       "<span style=\"color: #008000; text-decoration-color: #008000\">╰─────────────────────────────────────────────────────────────────────────────────────────────────────────────────╯</span>\n",
       "</pre>\n"
      ]
     },
     "metadata": {},
     "output_type": "display_data"
    },
    {
     "data": {
      "text/plain": [
       "\n"
      ],
      "text/html": [
       "<pre style=\"white-space:pre;overflow-x:auto;line-height:normal;font-family:Menlo,'DejaVu Sans Mono',consolas,'Courier New',monospace\">\n",
       "</pre>\n"
      ]
     },
     "metadata": {},
     "output_type": "display_data"
    },
    {
     "name": "stdout",
     "output_type": "stream",
     "text": [
      "```\n",
      "Subject: Demo Readiness and Next Steps\n",
      "\n",
      "Dear Team,\n",
      "\n",
      "I wanted to provide an update on the demo. It is nearing completion, although some elements are still in progress.\n",
      "\n",
      "I propose that we present the current version of the demo, clearly indicating that certain features are still work-in-progress (WIP). This will allow us to gather feedback and demonstrate the progress we've made.\n",
      "\n",
      "Please let me know your thoughts on this approach.\n",
      "\n",
      "Thank you,\n",
      "\n",
      "[Your Name]\n",
      "```\n"
     ]
    }
   ],
   "execution_count": 4
  },
  {
   "metadata": {},
   "cell_type": "code",
   "outputs": [],
   "execution_count": null,
   "source": "",
   "id": "3d6d03f7e44231ee"
  }
 ],
 "metadata": {
  "kernelspec": {
   "display_name": "Python 3",
   "language": "python",
   "name": "python3"
  },
  "language_info": {
   "codemirror_mode": {
    "name": "ipython",
    "version": 2
   },
   "file_extension": ".py",
   "mimetype": "text/x-python",
   "name": "python",
   "nbconvert_exporter": "python",
   "pygments_lexer": "ipython2",
   "version": "2.7.6"
  }
 },
 "nbformat": 4,
 "nbformat_minor": 5
}
